{
  "nbformat": 4,
  "nbformat_minor": 0,
  "metadata": {
    "colab": {
      "provenance": [],
      "authorship_tag": "ABX9TyNmTtOUHD7VuzFBmMPaJYxy",
      "include_colab_link": true
    },
    "kernelspec": {
      "name": "python3",
      "display_name": "Python 3"
    },
    "language_info": {
      "name": "python"
    }
  },
  "cells": [
    {
      "cell_type": "markdown",
      "metadata": {
        "id": "view-in-github",
        "colab_type": "text"
      },
      "source": [
        "<a href=\"https://colab.research.google.com/github/dhruvagrawA/Python__question_codes/blob/main/Kaun_Banega_hajarpati.ipynb\" target=\"_parent\"><img src=\"https://colab.research.google.com/assets/colab-badge.svg\" alt=\"Open In Colab\"/></a>"
      ]
    },
    {
      "cell_type": "code",
      "execution_count": 1,
      "metadata": {
        "colab": {
          "base_uri": "https://localhost:8080/"
        },
        "id": "FbQdBMarimtW",
        "outputId": "0d002819-7150-477e-f1d9-dbb935ec0233"
      },
      "outputs": [
        {
          "output_type": "stream",
          "name": "stdout",
          "text": [
            "Welcome to Kaun Banega Crorepati\n",
            "\n",
            " The 1 question for money 1000 is in front of you \n",
            "\n",
            "What is the national animal of india?\n",
            "A. Peacock\n",
            "B. Lion\n",
            "C. Tiger\n",
            "D. Dog\n",
            "Choose any 1 option A , B, C, D: or Press Q for Quit c\n",
            "\n",
            " kya baat aap jeet chuke hai 1000\n",
            "\n",
            " The 2 question for money 25000 is in front of you \n",
            "\n",
            "Who is the father of nation?\n",
            "A. Rabindra Nath Tagore\n",
            "B. Mahatma Gandhi\n",
            "C. Sharukh Khan\n",
            "D. Salman Khan\n",
            "Choose any 1 option A , B, C, D: or Press Q for Quit b\n",
            "\n",
            " kya baat aap jeet chuke hai 26000\n"
          ]
        }
      ],
      "source": [
        "questionBank=[ {\"Question\":\"What is the national animal of india?\",\n",
        "              \"option\":[\"A. Peacock\",  \"B. Lion\", \"C. Tiger\", \"D. Dog\"],\n",
        "              \"Ans\":\"C\",\n",
        "              },\n",
        "              {\"Question\":\"Who is the father of nation?\",\n",
        "              \"option\":[\"A. Rabindra Nath Tagore\",  \"B. Mahatma Gandhi\",\n",
        "                        \"C. Sharukh Khan\", \"D. Salman Khan\"],\n",
        "              \"Ans\":\"B\",\n",
        "              }\n",
        "      ]\n",
        "\n",
        "print('Welcome to Kaun Banega Crorepati')\n",
        "total_winning=0\n",
        "prizeMoney=[1000, 25000]\n",
        "for i,q in enumerate(questionBank):\n",
        "  print(f\"\\n The {i+1} question for money {prizeMoney[i]} is in front of you \\n\")\n",
        "  print(q[\"Question\"])\n",
        "  for option in q[\"option\"]:\n",
        "    print(option)\n",
        "\n",
        "  user_input=input(\"Choose any 1 option A , B, C, D: or Press Q for Quit \")\n",
        "  user_input = user_input.upper()\n",
        "  if(user_input==\"Q\"):\n",
        "    print(f\"Thank you for game and you won {total_winning}\")\n",
        "    break\n",
        "  if(user_input == q[\"Ans\"]):\n",
        "    total_winning+=prizeMoney[i]\n",
        "    print(f\"\\n kya baat aap jeet chuke hai {total_winning}\")\n",
        "\n",
        "  else:\n",
        "    print(\"Uff answer galat hai, GAME OVER!!\")\n",
        "    total_winning=0\n",
        "    break"
      ]
    },
    {
      "cell_type": "code",
      "source": [],
      "metadata": {
        "id": "O-WUp5Azin1Q"
      },
      "execution_count": null,
      "outputs": []
    }
  ]
}