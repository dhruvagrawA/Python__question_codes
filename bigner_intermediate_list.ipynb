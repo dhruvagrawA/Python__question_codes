{
  "nbformat": 4,
  "nbformat_minor": 0,
  "metadata": {
    "colab": {
      "provenance": [],
      "authorship_tag": "ABX9TyNixifzOR0qCMeNhSzYZobg",
      "include_colab_link": true
    },
    "kernelspec": {
      "name": "python3",
      "display_name": "Python 3"
    },
    "language_info": {
      "name": "python"
    }
  },
  "cells": [
    {
      "cell_type": "markdown",
      "metadata": {
        "id": "view-in-github",
        "colab_type": "text"
      },
      "source": [
        "<a href=\"https://colab.research.google.com/github/dhruvagrawA/Python__question_codes/blob/main/bigner_intermediate_list.ipynb\" target=\"_parent\"><img src=\"https://colab.research.google.com/assets/colab-badge.svg\" alt=\"Open In Colab\"/></a>"
      ]
    },
    {
      "cell_type": "code",
      "execution_count": null,
      "metadata": {
        "colab": {
          "base_uri": "https://localhost:8080/"
        },
        "id": "9DsQOLQFHwlD",
        "outputId": "39747e04-cb25-4bd9-9aa2-dfca0d51200e"
      },
      "outputs": [
        {
          "output_type": "stream",
          "name": "stdout",
          "text": [
            "99\n"
          ]
        }
      ],
      "source": [
        "numbers = [10, 20, 4, 45, 99]\n",
        "max = numbers[0]\n",
        "for number in numbers:\n",
        "    if(number > max):\n",
        "        max = number\n",
        "print(max)\n"
      ]
    },
    {
      "cell_type": "code",
      "source": [
        "numbers = [10, 20, 30, 40]\n",
        "sum = 0\n",
        "for i in range(len(numbers)):\n",
        "  sum=sum+numbers[i]\n",
        "print(sum)"
      ],
      "metadata": {
        "colab": {
          "base_uri": "https://localhost:8080/"
        },
        "id": "8_5mj_8-H_5P",
        "outputId": "5db63581-6ee2-4f20-fef1-77c06f88043b"
      },
      "execution_count": null,
      "outputs": [
        {
          "output_type": "stream",
          "name": "stdout",
          "text": [
            "100\n"
          ]
        }
      ]
    },
    {
      "cell_type": "code",
      "source": [
        "numbers = [1, 2, 3, 4, 5]\n",
        "rev = []\n",
        "for i in range(-1,-len(numbers)-1,-1):\n",
        "  rev.append(numbers[i])\n",
        "print(rev)\n"
      ],
      "metadata": {
        "colab": {
          "base_uri": "https://localhost:8080/"
        },
        "id": "auh6rRo1I1Ve",
        "outputId": "1d47cb63-eaef-4f7e-c5cf-3d6dc7957e4b"
      },
      "execution_count": null,
      "outputs": [
        {
          "output_type": "stream",
          "name": "stdout",
          "text": [
            "[5, 4, 3, 2, 1]\n"
          ]
        }
      ]
    },
    {
      "cell_type": "code",
      "source": [
        "list = [1,5,2,3,4]\n",
        "for i in range(len(list)):\n",
        "  for j in range(i+1,len(list)):\n",
        "    if(list[i]>list[j]):\n",
        "      temp=list[i]\n",
        "      list[i]=list[j]\n",
        "      list[j]=temp\n",
        "print(list)"
      ],
      "metadata": {
        "colab": {
          "base_uri": "https://localhost:8080/"
        },
        "id": "xNLt5q_sKKvR",
        "outputId": "3a95fcc4-7ddf-4f5b-f34e-e7bcea94dc58"
      },
      "execution_count": null,
      "outputs": [
        {
          "output_type": "stream",
          "name": "stdout",
          "text": [
            "[1, 2, 3, 4, 5]\n"
          ]
        }
      ]
    },
    {
      "cell_type": "code",
      "source": [
        "numbers = [1, 2, 2, 3, 4, 4, 5]\n",
        "duplicate = []\n",
        "for i in numbers:\n",
        "\n",
        "  if(i not in duplicate):\n",
        "\n",
        "    duplicate.append(i)\n",
        "\n",
        "\n",
        "print(duplicate)\n",
        "\n",
        "\n",
        "\n"
      ],
      "metadata": {
        "colab": {
          "base_uri": "https://localhost:8080/"
        },
        "id": "ml6NeE3TLpx4",
        "outputId": "29513e1e-ced2-49b4-9a8b-808c946c9721"
      },
      "execution_count": null,
      "outputs": [
        {
          "output_type": "stream",
          "name": "stdout",
          "text": [
            "[1, 2, 3, 4, 5]\n"
          ]
        }
      ]
    },
    {
      "cell_type": "code",
      "source": [
        "numbers = [1, 2, 3, 4, 3, 5, 6]\n",
        "target_sum = 6\n",
        "\n",
        "list1=[]\n",
        "\n",
        "for i in range(len(numbers)):\n",
        "  for j in range(i+1,len(numbers)):\n",
        "    if(numbers[i]+numbers[j]==target_sum):\n",
        "\n",
        "\n",
        "      list1.append((numbers[i],numbers[j]))\n",
        "\n",
        "print(list1)\n",
        "\n",
        "\n",
        "\n",
        "\n",
        "\n",
        "\n",
        "\n",
        "\n"
      ],
      "metadata": {
        "colab": {
          "base_uri": "https://localhost:8080/"
        },
        "id": "8OG1jGpgRVM5",
        "outputId": "06bab633-e262-4948-d3bd-73229ad331e1"
      },
      "execution_count": null,
      "outputs": [
        {
          "output_type": "stream",
          "name": "stdout",
          "text": [
            "[(1, 5), (2, 4), (3, 3)]\n"
          ]
        }
      ]
    },
    {
      "cell_type": "code",
      "source": [
        "nested_list = [1, [2, 3], [4, [5, 6], 7], 8]\n",
        "list1 = []\n",
        "\n",
        "for i in nested_list:\n",
        "  if(type(i)==list):\n",
        "    for j in i:\n",
        "      if(type(j)==list):\n",
        "        for k in j:\n",
        "          print(k )\n",
        "          list1.append(k)\n",
        "      else:\n",
        "        print(j )\n",
        "        list1.append(j)\n",
        "  else:\n",
        "      print(i )\n",
        "      list1.append(i)\n",
        "\n",
        "\n",
        "\n",
        "print(list1)\n",
        "\n",
        "\n",
        "\n",
        "\n"
      ],
      "metadata": {
        "colab": {
          "base_uri": "https://localhost:8080/"
        },
        "id": "k0-Y8afOT9jJ",
        "outputId": "724cb3ea-18e7-4073-e19f-25bd488197fb"
      },
      "execution_count": null,
      "outputs": [
        {
          "output_type": "stream",
          "name": "stdout",
          "text": [
            "1\n",
            "2\n",
            "3\n",
            "4\n",
            "5\n",
            "6\n",
            "7\n",
            "8\n",
            "[1, 2, 3, 4, 5, 6, 7, 8]\n"
          ]
        }
      ]
    },
    {
      "cell_type": "code",
      "source": [
        "list1 = [20,30,50,75,92]\n",
        "max = list1[0]\n",
        "min = list1[0]\n",
        "sum = 0\n",
        "for i in range(len(list1)):\n",
        "  if(list1[i]>max):\n",
        "    max=list1[i]\n",
        "  if(list1[i]<min):\n",
        "    min=list1[i]\n",
        "print(max,min)\n",
        "for i in range(len(list1)):\n",
        "  if(list1[i]!=max and list1[i]!=min):\n",
        "    sum+=list1[i]\n",
        "print(sum)\n",
        "\n",
        "\n",
        "\n"
      ],
      "metadata": {
        "colab": {
          "base_uri": "https://localhost:8080/"
        },
        "id": "yWSk1OmpdCpr",
        "outputId": "15e2a871-780a-4f2c-f274-a7e0837d4c37"
      },
      "execution_count": null,
      "outputs": [
        {
          "output_type": "stream",
          "name": "stdout",
          "text": [
            "92 20\n",
            "155\n"
          ]
        }
      ]
    },
    {
      "cell_type": "code",
      "source": [
        "mylist = [1, 2, 3, 6, 1]\n",
        "start = 0\n",
        "end = len(mylist)-1\n",
        "while(start!=end):\n",
        "\n",
        "  if(mylist[start]!=mylist[end]):\n",
        "      print(\"not pallindrome\")\n",
        "      break\n",
        "  start+=1\n",
        "  end-=1\n",
        "else:\n",
        "    print(\" pallindrome\")"
      ],
      "metadata": {
        "colab": {
          "base_uri": "https://localhost:8080/"
        },
        "id": "ZaIpDBnT9voB",
        "outputId": "ccb77932-8d54-4dd9-86ac-1ed69d86782b"
      },
      "execution_count": null,
      "outputs": [
        {
          "output_type": "stream",
          "name": "stdout",
          "text": [
            "not pallindrome\n"
          ]
        }
      ]
    },
    {
      "cell_type": "code",
      "source": [
        "mylist = [1,2,3,4,2,4,5,1,6]\n",
        "duplicate = []\n",
        "\n",
        "for i in mylist:\n",
        "  if(i not in duplicate):\n",
        "    duplicate.append(i)\n",
        "\n",
        "print(duplicate)\n"
      ],
      "metadata": {
        "colab": {
          "base_uri": "https://localhost:8080/"
        },
        "id": "JRwgd-EIAyCg",
        "outputId": "a3083684-0ce0-4de3-e3fe-c066d993be8c"
      },
      "execution_count": null,
      "outputs": [
        {
          "output_type": "stream",
          "name": "stdout",
          "text": [
            "[1, 2, 3, 4, 5, 6]\n"
          ]
        }
      ]
    },
    {
      "cell_type": "code",
      "source": [
        "list1 = [1, 2, 3, 4, 5]\n",
        "list2 = [3, 4, 5, 6, 7]\n",
        "list3 = []\n",
        "for i in range(len(list1)):\n",
        "\n",
        " for j in range(len(list2)):\n",
        "\n",
        "\n",
        "  if(list1[i]==list2[j]):\n",
        "    list3.append(list1[i])\n",
        "print(list3)\n",
        "\n"
      ],
      "metadata": {
        "colab": {
          "base_uri": "https://localhost:8080/"
        },
        "id": "W2QKZkHCEJwD",
        "outputId": "a50b4e94-3e8a-46d9-d859-e4a7eec3c842"
      },
      "execution_count": null,
      "outputs": [
        {
          "output_type": "stream",
          "name": "stdout",
          "text": [
            "[3, 4, 5]\n"
          ]
        }
      ]
    },
    {
      "cell_type": "code",
      "source": [
        "words = [\"apple\", \"banana\", \"strawberry\", \"kiwi\"]\n",
        "longest_word = \"\"\n",
        "for word in words:\n",
        "  if(len(word)>len(longest_word)):\n",
        "    longest_word=word\n",
        "  print(longest_word)\n",
        "\n"
      ],
      "metadata": {
        "colab": {
          "base_uri": "https://localhost:8080/"
        },
        "id": "rMcH2yW_Eppx",
        "outputId": "8fd49b8b-c5a6-42d6-e050-eab8a80caa2f"
      },
      "execution_count": null,
      "outputs": [
        {
          "output_type": "stream",
          "name": "stdout",
          "text": [
            "apple\n",
            "banana\n",
            "strawberry\n",
            "strawberry\n"
          ]
        }
      ]
    },
    {
      "cell_type": "code",
      "source": [
        "#for missing number\n",
        "numbers = [1, 2, 4, 5, 6]\n",
        "\n",
        "\n",
        "\n",
        "\n",
        "for i in range(0,len(numbers)-1):\n",
        "\n",
        "    x = numbers[i+1] - numbers[i]\n",
        "\n",
        "    if(x!=1):\n",
        "\n",
        "      numbers[i] = numbers[i] + 1\n",
        "\n",
        "      print(numbers[i])\n",
        "\n",
        "\n",
        "\n",
        "\n",
        "\n",
        "\n",
        "\n",
        "\n",
        "\n",
        "\n"
      ],
      "metadata": {
        "id": "TqCcaU_AKFkp",
        "colab": {
          "base_uri": "https://localhost:8080/"
        },
        "outputId": "6330ad60-0ceb-4f26-c198-d40e01b392a8"
      },
      "execution_count": null,
      "outputs": [
        {
          "output_type": "stream",
          "name": "stdout",
          "text": [
            "3\n"
          ]
        }
      ]
    },
    {
      "cell_type": "code",
      "source": [
        "ylist = [4,5,1,2,0,4,5,2]\n",
        "duplicate = []\n",
        "\n",
        "for i in ylist:\n",
        "  if(i not in duplicate):\n",
        "    duplicate.append(i)\n",
        "\n",
        "print(duplicate)\n"
      ],
      "metadata": {
        "id": "ix8dUZ5lDov2",
        "colab": {
          "base_uri": "https://localhost:8080/"
        },
        "outputId": "8f9b4991-320c-44c9-fb2a-cf5267f88beb"
      },
      "execution_count": null,
      "outputs": [
        {
          "output_type": "stream",
          "name": "stdout",
          "text": [
            "[4, 5, 1, 2, 0]\n"
          ]
        }
      ]
    },
    {
      "cell_type": "code",
      "source": [
        "numbers = [4, 5, 7, 1, 8, 4, 5, 2]\n",
        "newlist = []\n",
        "for i in range(0,len(numbers)):\n",
        "\n",
        "  for j in range(i+1,len(numbers)):\n",
        "    if(numbers[i]==numbers[j]):\n",
        "\n",
        "\n",
        "      newlist.append(numbers[i])\n",
        "      result = [i for i in numbers if i not in newlist]\n",
        "print(result[0])"
      ],
      "metadata": {
        "colab": {
          "base_uri": "https://localhost:8080/"
        },
        "id": "P4SVmzjRZdyx",
        "outputId": "e5bd5170-e93a-426a-e2b5-74be3ad026b2"
      },
      "execution_count": null,
      "outputs": [
        {
          "output_type": "stream",
          "name": "stdout",
          "text": [
            "7\n"
          ]
        }
      ]
    },
    {
      "cell_type": "code",
      "source": [
        "number = input(\"Enter a number: \")\n",
        "total = 0\n",
        "\n",
        "for digit in number:\n",
        "    if digit.isdigit() and int(digit) % 2 == 0:\n",
        "        total += int(digit)\n",
        "\n",
        "print(\"Sum of even digits:\", total)\n"
      ],
      "metadata": {
        "colab": {
          "base_uri": "https://localhost:8080/"
        },
        "id": "JvIvciENdgLT",
        "outputId": "6f6cdf8a-8fa3-4deb-8bcd-30308d1644ea"
      },
      "execution_count": null,
      "outputs": [
        {
          "output_type": "stream",
          "name": "stdout",
          "text": [
            "Enter a number: 1357\n",
            "Sum of even digits: 0\n"
          ]
        }
      ]
    },
    {
      "cell_type": "code",
      "source": [
        "number = input(\"Enter a number: \")\n",
        "\n",
        "max_digit = '0'  # keep it as a character\n",
        "\n",
        "for digit in number:\n",
        "    if digit > max_digit:\n",
        "        max_digit = digit\n",
        "\n",
        "print(\"Largest digit:\", max_digit)\n"
      ],
      "metadata": {
        "colab": {
          "base_uri": "https://localhost:8080/"
        },
        "id": "Qf-srrBO6Awp",
        "outputId": "3cad464c-5d78-45b3-ef85-5936511d8333"
      },
      "execution_count": null,
      "outputs": [
        {
          "output_type": "stream",
          "name": "stdout",
          "text": [
            "Enter a number: 17845\n",
            "Largest digit: 8\n"
          ]
        }
      ]
    },
    {
      "cell_type": "code",
      "source": [
        "number = int(input(\"Enter a number: \"))\n",
        "i = 1\n",
        "\n",
        "while i * i <= number:\n",
        "    if i * i == number:\n",
        "        print(\"Perfect square. Square root is:\", i)\n",
        "        break\n",
        "    i += 1\n",
        "else:\n",
        "    print(\"Not a perfect square.\")\n"
      ],
      "metadata": {
        "colab": {
          "base_uri": "https://localhost:8080/"
        },
        "id": "OG-lHbKM6fqe",
        "outputId": "ecfdff63-19ef-488d-c9a3-020c5322183a"
      },
      "execution_count": null,
      "outputs": [
        {
          "output_type": "stream",
          "name": "stdout",
          "text": [
            "Enter a number: 49\n",
            "Perfect square. Square root is: 7\n"
          ]
        }
      ]
    },
    {
      "cell_type": "code",
      "source": [
        "number = input(\"Enter a number: \")\n",
        "\n",
        "i = 0\n",
        "\n",
        "# Skip leading zeros if any\n",
        "while number[i] == '0':\n",
        "    i = i + 1\n",
        "\n",
        "print(\"First digit:\", number[i])\n"
      ],
      "metadata": {
        "colab": {
          "base_uri": "https://localhost:8080/"
        },
        "id": "I7tHxSPx7GO7",
        "outputId": "df9dc295-b088-410e-bd8a-6e5cbff940f3"
      },
      "execution_count": null,
      "outputs": [
        {
          "output_type": "stream",
          "name": "stdout",
          "text": [
            "Enter a number: 677686594\n",
            "First digit: 6\n"
          ]
        }
      ]
    },
    {
      "cell_type": "code",
      "source": [
        "number = int(input(\"Enter a number: \"))\n",
        "\n",
        "while number % 2 == 0:\n",
        "    number = number // 2\n",
        "\n",
        "print(number)\n"
      ],
      "metadata": {
        "colab": {
          "base_uri": "https://localhost:8080/"
        },
        "id": "1mbwXXCC8CQJ",
        "outputId": "8fc5259f-7f65-49a5-9e29-378ec23089c2"
      },
      "execution_count": null,
      "outputs": [
        {
          "output_type": "stream",
          "name": "stdout",
          "text": [
            "Enter a number: 40\n",
            "5\n"
          ]
        }
      ]
    },
    {
      "cell_type": "code",
      "source": [
        "number = [0, 1, 0, 3, 12]\n",
        "j = 0\n",
        "for i in range(0,len(number)):\n",
        "\n",
        "  if(number[i]!=0):\n",
        "    temp = number[j]\n",
        "    number[j] = number[i]\n",
        "    number[i] = temp\n",
        "    j+=1\n",
        "print(number)"
      ],
      "metadata": {
        "id": "5rw0mNq-9Tva",
        "colab": {
          "base_uri": "https://localhost:8080/"
        },
        "outputId": "f9028570-b737-4562-e799-9dbac4c670b2"
      },
      "execution_count": null,
      "outputs": [
        {
          "output_type": "stream",
          "name": "stdout",
          "text": [
            "[1, 3, 12, 0, 0]\n"
          ]
        }
      ]
    },
    {
      "cell_type": "code",
      "source": [
        "number = [1, 3, 2, 6, 5, 8, 7]\n",
        "newlist = []\n",
        "for i in range(0,len(number)-1):\n",
        "  if(number[i]>number[i+1]):\n",
        "    newlist.append(number[i])\n",
        "\n",
        "print(newlist)"
      ],
      "metadata": {
        "colab": {
          "base_uri": "https://localhost:8080/"
        },
        "id": "Pj5EH6UWmAx7",
        "outputId": "f5b03c25-614c-4105-921e-cf465d70877b"
      },
      "execution_count": null,
      "outputs": [
        {
          "output_type": "stream",
          "name": "stdout",
          "text": [
            "[3, 6, 8]\n"
          ]
        }
      ]
    },
    {
      "cell_type": "code",
      "source": [
        "numbers = [-1, 0, 1, 2, -1, -4]\n",
        "newlist = []\n",
        "target = 0\n",
        "for i in range(0,len(numbers)):\n",
        "  for j in range(i+1,len(numbers)):\n",
        "    for k in range(j+1,len(numbers)):\n",
        "\n",
        "      if(number[i]+number[j]+number[k]==target):\n",
        "        x =[ number[i],number[j],number[k]]\n",
        "        x = sorted([numbers[i], numbers[j], numbers[k]])\n",
        "        if(x not in newlist):\n",
        "          newlist.append(x)\n",
        "print(newlist)"
      ],
      "metadata": {
        "colab": {
          "base_uri": "https://localhost:8080/"
        },
        "id": "142vaoABmwBO",
        "outputId": "51e0ced0-a098-4d3e-9254-ba321a67c3f6"
      },
      "execution_count": null,
      "outputs": [
        {
          "output_type": "stream",
          "name": "stdout",
          "text": [
            "[[-1, 0, 1], [-1, -1, 2]]\n"
          ]
        }
      ]
    },
    {
      "cell_type": "code",
      "source": [],
      "metadata": {
        "id": "b1imnoMSnAv4"
      },
      "execution_count": null,
      "outputs": []
    }
  ]
}