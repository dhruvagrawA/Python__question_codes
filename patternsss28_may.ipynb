{
  "nbformat": 4,
  "nbformat_minor": 0,
  "metadata": {
    "colab": {
      "provenance": [],
      "authorship_tag": "ABX9TyMt45yWhMV4nmJ35/sC1i2R",
      "include_colab_link": true
    },
    "kernelspec": {
      "name": "python3",
      "display_name": "Python 3"
    },
    "language_info": {
      "name": "python"
    }
  },
  "cells": [
    {
      "cell_type": "markdown",
      "metadata": {
        "id": "view-in-github",
        "colab_type": "text"
      },
      "source": [
        "<a href=\"https://colab.research.google.com/github/dhruvagrawA/Python__question_codes/blob/main/patternsss28_may.ipynb\" target=\"_parent\"><img src=\"https://colab.research.google.com/assets/colab-badge.svg\" alt=\"Open In Colab\"/></a>"
      ]
    },
    {
      "cell_type": "code",
      "execution_count": 2,
      "metadata": {
        "colab": {
          "base_uri": "https://localhost:8080/"
        },
        "id": "S5z01oNT7hmk",
        "outputId": "32713443-ad4f-41b6-b0ad-fee3b292da1a"
      },
      "outputs": [
        {
          "output_type": "stream",
          "name": "stdout",
          "text": [
            "- * * * * \n",
            "- - * * * \n",
            "- - - * * \n",
            "- - - - * \n",
            "- - - - - \n"
          ]
        }
      ],
      "source": [
        "for i in range(1,6):\n",
        "  for j in range(1,i+1):\n",
        "    print(\"-\",end=\" \")\n",
        "\n",
        "  for k in range(1,5-i+1):\n",
        "     print(\"*\",end=\" \")\n",
        "  print()"
      ]
    },
    {
      "cell_type": "code",
      "source": [
        "for i in range(1,6):\n",
        "  for j in range(1,5-i+1):\n",
        "    print(\"-\",end=\" \")\n",
        "\n",
        "  for k in range(1,i+1):\n",
        "    print(\"*\",end=\" \")\n",
        "\n",
        "  print()"
      ],
      "metadata": {
        "colab": {
          "base_uri": "https://localhost:8080/"
        },
        "id": "Bz-hgSLv9ISQ",
        "outputId": "2a941b27-abea-4848-bb8a-8a75efd90602"
      },
      "execution_count": 4,
      "outputs": [
        {
          "output_type": "stream",
          "name": "stdout",
          "text": [
            "- - - - * \n",
            "- - - * * \n",
            "- - * * * \n",
            "- * * * * \n",
            "* * * * * \n"
          ]
        }
      ]
    },
    {
      "cell_type": "code",
      "source": [
        "for i in range(1,6):\n",
        "  for j in range(1,i+1):\n",
        "    print(j,end=\" \")\n",
        "\n",
        "  char = 65\n",
        "  for k in range(1,5-i+1):\n",
        "      print(chr(char),end=\" \")\n",
        "      char += 1\n",
        "\n",
        "  print()"
      ],
      "metadata": {
        "colab": {
          "base_uri": "https://localhost:8080/"
        },
        "id": "h7ZHZJd79-XO",
        "outputId": "863d6a73-8dc1-42af-b901-9d7e6fb85a88"
      },
      "execution_count": 21,
      "outputs": [
        {
          "output_type": "stream",
          "name": "stdout",
          "text": [
            "1 A B C D \n",
            "1 2 A B C \n",
            "1 2 3 A B \n",
            "1 2 3 4 A \n",
            "1 2 3 4 5 \n"
          ]
        }
      ]
    },
    {
      "cell_type": "code",
      "source": [
        "for i in range(1,6):\n",
        "  for j in range(2,i+1):\n",
        "    print(\"-\",end=\" \")\n",
        "\n",
        "  for k in range(1,6-i+1):\n",
        "    print(\"*\",end=\" \")\n",
        "\n",
        "  print()"
      ],
      "metadata": {
        "colab": {
          "base_uri": "https://localhost:8080/"
        },
        "id": "-Icp34TW-yIO",
        "outputId": "29b6de99-a6ec-42d1-8cf6-e7fe91a95c06"
      },
      "execution_count": 56,
      "outputs": [
        {
          "output_type": "stream",
          "name": "stdout",
          "text": [
            "* * * * * \n",
            "- * * * * \n",
            "- - * * * \n",
            "- - - * * \n",
            "- - - - * \n"
          ]
        }
      ]
    },
    {
      "cell_type": "code",
      "source": [
        "\n",
        "for i in range (1,6):\n",
        "  for k in range(1,i+1):\n",
        "    if(k==1 or i==5 or i==k):\n",
        "     print(\"*\",end=\" \")\n",
        "    else:\n",
        "      print(\"-\",end=\" \")\n",
        "  print()"
      ],
      "metadata": {
        "colab": {
          "base_uri": "https://localhost:8080/"
        },
        "id": "jT0sfEe1BhoW",
        "outputId": "935cd33a-0c22-4dbc-cfb1-849f473052b6"
      },
      "execution_count": 31,
      "outputs": [
        {
          "output_type": "stream",
          "name": "stdout",
          "text": [
            "* \n",
            "* * \n",
            "* - * \n",
            "* - - * \n",
            "* * * * * \n"
          ]
        }
      ]
    },
    {
      "cell_type": "code",
      "source": [
        " for i in range(1,6):\n",
        "  for k in range(1,6-i+1):\n",
        "    if(k==1 or i==1 or k==5-i+1):\n",
        "      print(\"*\",end=\" \")\n",
        "    else:\n",
        "      print(\"-\",end=\" \")\n",
        "  print()"
      ],
      "metadata": {
        "colab": {
          "base_uri": "https://localhost:8080/"
        },
        "id": "YUqqa63QFs9R",
        "outputId": "eac53c7c-6e20-446b-f112-fe27006c66bb"
      },
      "execution_count": 51,
      "outputs": [
        {
          "output_type": "stream",
          "name": "stdout",
          "text": [
            "* * * * * \n",
            "* - - * \n",
            "* - * \n",
            "* * \n",
            "* \n"
          ]
        }
      ]
    },
    {
      "cell_type": "code",
      "source": [
        "for i in range(5,0,-1):\n",
        "  for k in range(1,i+1):\n",
        "    if(k==1 or i==5 or i==k):\n",
        "      print(\"*\",end=\" \")\n",
        "    else:\n",
        "      print(\"-\",end=\" \")\n",
        "  print()"
      ],
      "metadata": {
        "colab": {
          "base_uri": "https://localhost:8080/"
        },
        "id": "cawCdYVdGt-l",
        "outputId": "0a2ddb80-56ad-41cd-8f4b-553dc4f6d50d"
      },
      "execution_count": 52,
      "outputs": [
        {
          "output_type": "stream",
          "name": "stdout",
          "text": [
            "* * * * * \n",
            "* - - * \n",
            "* - * \n",
            "* * \n",
            "* \n"
          ]
        }
      ]
    },
    {
      "cell_type": "code",
      "source": [
        "for i in range(1,6):\n",
        "  for j in range(2,i+1):\n",
        "    print(\"-\",end=\" \")\n",
        "\n",
        "  for k in range(1,6-i+1):\n",
        "    if(i==1 or k==5 or i==k):\n",
        "\n",
        "      print(\"*\",end=\" \")\n",
        "\n",
        "    else:\n",
        "      print(\"-\",end=\" \")\n",
        "\n",
        "  print()"
      ],
      "metadata": {
        "colab": {
          "base_uri": "https://localhost:8080/"
        },
        "id": "kIBBbMhXIpFC",
        "outputId": "db7c80d6-1a3c-4a74-da9b-6bebd47690c8"
      },
      "execution_count": 60,
      "outputs": [
        {
          "output_type": "stream",
          "name": "stdout",
          "text": [
            "* * * * * \n",
            "- - * - - \n",
            "- - - - * \n",
            "- - - - - \n",
            "- - - - - \n"
          ]
        }
      ]
    },
    {
      "cell_type": "code",
      "source": [
        "for i in range(1,6):\n",
        "    for j in range(2,i+1):\n",
        "        print(\"-\",end=\" \")\n",
        "    for j in range(i,6):\n",
        "        if(j==5 or i==1 or j==i):\n",
        "            print(\"*\",end=\" \")\n",
        "        else:\n",
        "            print(\" \",end=\" \")\n",
        "    print()"
      ],
      "metadata": {
        "colab": {
          "base_uri": "https://localhost:8080/"
        },
        "id": "USvkkI58KLYN",
        "outputId": "0ad3c9cb-c7ab-4ab5-bc04-8865239f759e"
      },
      "execution_count": 63,
      "outputs": [
        {
          "output_type": "stream",
          "name": "stdout",
          "text": [
            "* * * * * \n",
            "- *     * \n",
            "- - *   * \n",
            "- - - * * \n",
            "- - - - * \n"
          ]
        }
      ]
    },
    {
      "cell_type": "code",
      "source": [],
      "metadata": {
        "id": "_OFT45g3K24B"
      },
      "execution_count": null,
      "outputs": []
    }
  ]
}