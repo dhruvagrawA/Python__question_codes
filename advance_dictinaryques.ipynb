{
  "nbformat": 4,
  "nbformat_minor": 0,
  "metadata": {
    "colab": {
      "provenance": [],
      "authorship_tag": "ABX9TyOmoAOYvE1DnWYE+eEK86f2",
      "include_colab_link": true
    },
    "kernelspec": {
      "name": "python3",
      "display_name": "Python 3"
    },
    "language_info": {
      "name": "python"
    }
  },
  "cells": [
    {
      "cell_type": "markdown",
      "metadata": {
        "id": "view-in-github",
        "colab_type": "text"
      },
      "source": [
        "<a href=\"https://colab.research.google.com/github/dhruvagrawA/Python__question_codes/blob/main/advance_dictinaryques.ipynb\" target=\"_parent\"><img src=\"https://colab.research.google.com/assets/colab-badge.svg\" alt=\"Open In Colab\"/></a>"
      ]
    },
    {
      "cell_type": "code",
      "execution_count": 2,
      "metadata": {
        "colab": {
          "base_uri": "https://localhost:8080/"
        },
        "id": "-XEJBCCsOqOH",
        "outputId": "d37c668a-0449-4308-e3f3-9696107aab13"
      },
      "outputs": [
        {
          "output_type": "stream",
          "name": "stdout",
          "text": [
            "{'age': 22, 'course': 'pyhton'}\n"
          ]
        }
      ],
      "source": [
        "dict1 = {\"name\":\"dhruv\",\"age\":22,\"course\":\"pyhton\"}\n",
        "\n",
        "# for values in dict1.values():\n",
        "#     print(values)\n",
        "\n",
        "# for keys in dict1.keys():\n",
        "#     print(keys)\n",
        "\n",
        "# for items in dict1.items():\n",
        "#     print(items)\n",
        "\n",
        "del dict1[\"name\"]\n",
        "print(dict1)"
      ]
    },
    {
      "cell_type": "code",
      "source": [
        "d = {\"a\":1,\"b\":2,\"c\":3}\n",
        "f = {\"l\":2,\"m\":4,\"n\":6}\n",
        "d.update(f)\n",
        "print(d)\n"
      ],
      "metadata": {
        "colab": {
          "base_uri": "https://localhost:8080/"
        },
        "id": "KR59NMrOSAY3",
        "outputId": "48e3a2cf-b1dc-4bb9-a1ef-7268065e4b99"
      },
      "execution_count": 4,
      "outputs": [
        {
          "output_type": "stream",
          "name": "stdout",
          "text": [
            "{'a': 1, 'b': 2, 'c': 3, 'l': 2, 'm': 4, 'n': 6}\n"
          ]
        }
      ]
    },
    {
      "cell_type": "code",
      "source": [
        "s = \"apple\"\n",
        "mydict = {}\n",
        "for i in s:\n",
        "  if i in mydict:\n",
        "    mydict[i] += 1\n",
        "  else:\n",
        "    mydict[i] = 1\n",
        "print(mydict)"
      ],
      "metadata": {
        "colab": {
          "base_uri": "https://localhost:8080/"
        },
        "id": "UMMdVC2hTezQ",
        "outputId": "77201a11-46ff-4ef0-f323-1522acb9af18"
      },
      "execution_count": 7,
      "outputs": [
        {
          "output_type": "stream",
          "name": "stdout",
          "text": [
            "{'a': 1, 'p': 2, 'l': 1, 'e': 1}\n"
          ]
        }
      ]
    },
    {
      "cell_type": "code",
      "source": [
        "a = [1,2,3]\n",
        "mydict = {}\n",
        "for i in a:\n",
        "  mydict[i] = i**2\n",
        "print(mydict)"
      ],
      "metadata": {
        "colab": {
          "base_uri": "https://localhost:8080/"
        },
        "id": "PqT_EzD8UMdC",
        "outputId": "c1c3594e-a297-4bb7-ee40-925f324e3d79"
      },
      "execution_count": 8,
      "outputs": [
        {
          "output_type": "stream",
          "name": "stdout",
          "text": [
            "{1: 1, 2: 4, 3: 9}\n"
          ]
        }
      ]
    },
    {
      "cell_type": "code",
      "source": [
        "a = {'a':1 , 'b':2}\n",
        "mydict = {}\n",
        "for i in a:\n",
        "  print(i)\n",
        "  print(a[i])\n",
        "\n",
        "\n",
        "  temp = a[i]\n",
        "  mydict[temp] = i\n",
        "\n",
        "\n",
        "print(mydict)\n",
        ""
      ],
      "metadata": {
        "colab": {
          "base_uri": "https://localhost:8080/"
        },
        "id": "gRg4t3pxVOJC",
        "outputId": "27568a0a-e864-4cbf-d1d7-3aedb8bc9008"
      },
      "execution_count": 19,
      "outputs": [
        {
          "output_type": "stream",
          "name": "stdout",
          "text": [
            "a\n",
            "1\n",
            "b\n",
            "2\n",
            "{1: 'a', 2: 'b'}\n"
          ]
        }
      ]
    },
    {
      "cell_type": "code",
      "source": [
        "def func():\n",
        "  s = [\"hello\", \"i\", \"am\", \"using\", \"python\", \"hello\", \"am\", \"python\"]\n",
        "\n",
        "  mydict = {}\n",
        "  for i in s:\n",
        "    if i in mydict:\n",
        "      mydict[i] += 1\n",
        "    else:\n",
        "      mydict[i] = 1\n",
        "  print(mydict)\n",
        "\n",
        "func()\n",
        "\n"
      ],
      "metadata": {
        "colab": {
          "base_uri": "https://localhost:8080/"
        },
        "id": "EyL8pjY0WpMu",
        "outputId": "e3b7b80b-4010-4b0b-d11f-bfe322117170"
      },
      "execution_count": 36,
      "outputs": [
        {
          "output_type": "stream",
          "name": "stdout",
          "text": [
            "{'hello': 2, 'i': 1, 'am': 2, 'using': 1, 'python': 2}\n"
          ]
        }
      ]
    },
    {
      "cell_type": "code",
      "source": [
        "keys = ['name' , 'age' , 'city']\n",
        "values = ['stefan' , 22  , 'delhi']\n",
        "mydict = {}\n",
        "for i in keys:\n",
        "\n",
        "  if(i not in mydict):\n",
        "    mydict[i] = values.pop(0)\n",
        "\n",
        "\n",
        "print(mydict)"
      ],
      "metadata": {
        "colab": {
          "base_uri": "https://localhost:8080/"
        },
        "id": "IZfDU-8AYu8A",
        "outputId": "37dcb272-3f1f-4f8a-8ff8-a6046473b2e6"
      },
      "execution_count": 52,
      "outputs": [
        {
          "output_type": "stream",
          "name": "stdout",
          "text": [
            "{'name': 'stefan', 'age': 22, 'city': 'delhi'}\n"
          ]
        }
      ]
    },
    {
      "cell_type": "code",
      "source": [
        "mydict = {'a':45 , 'b':40 , 'c':98}\n",
        "max = mydict['a']\n",
        "for i in mydict:\n",
        "  if(mydict[i] > max):\n",
        "    max = i\n",
        "print(max,mydict[i])"
      ],
      "metadata": {
        "colab": {
          "base_uri": "https://localhost:8080/"
        },
        "id": "iOlN0JpUbTRs",
        "outputId": "65079a7d-becd-410b-945a-d4570fe70593"
      },
      "execution_count": 57,
      "outputs": [
        {
          "output_type": "stream",
          "name": "stdout",
          "text": [
            "c 98\n"
          ]
        }
      ]
    },
    {
      "cell_type": "code",
      "source": [
        "a = {'a':45 , 'b':40 , 'c':98  , 'd':40}\n",
        "b = {}\n",
        "for i in a:\n",
        "  if (a[i] not in b.values()):\n",
        "    b[i] = a[i]\n",
        "print(b)\n",
        "# values_set = set(mydict.values())\n",
        "# print(values_set)\n",
        "\n",
        "\n"
      ],
      "metadata": {
        "colab": {
          "base_uri": "https://localhost:8080/"
        },
        "id": "-95b7ilpkL_k",
        "outputId": "bc189748-bfa0-4a06-8537-2b10dc1603da"
      },
      "execution_count": 70,
      "outputs": [
        {
          "output_type": "stream",
          "name": "stdout",
          "text": [
            "{'a': 45, 'b': 40, 'c': 98}\n"
          ]
        }
      ]
    },
    {
      "cell_type": "code",
      "source": [
        "person = {\n",
        "    \"name\": \"Ronak\",\n",
        "    \"address\": {\n",
        "        \"city\": \"Mumbai\",\n",
        "        \"pincode\": 400001\n",
        "    }\n",
        "}\n",
        "for key , value in person.items():\n",
        "  if(type(value)==dict):\n",
        "    for sub_key , sub_value in value.items():\n",
        "      print(f\"{key} {sub_key} = {sub_value}\")\n",
        "  else:\n",
        "      print(f\"{key} = {value}\")\n",
        "\n"
      ],
      "metadata": {
        "colab": {
          "base_uri": "https://localhost:8080/"
        },
        "id": "dLi4H9MHl3ia",
        "outputId": "18cadaa8-8ba3-437d-ddcd-527ebf999b72"
      },
      "execution_count": 1,
      "outputs": [
        {
          "output_type": "stream",
          "name": "stdout",
          "text": [
            "name = Ronak\n",
            "address city = Mumbai\n",
            "address pincode = 400001\n"
          ]
        }
      ]
    },
    {
      "cell_type": "code",
      "source": [
        "data = [{'a': 1}, {'b': 2}, {'a': 3}, {'b': 4}]\n",
        "# → Output: {'a': [1,3], 'b': [2,4]}\n",
        "mydict = {}\n",
        "for i in data:\n",
        "\n",
        "  for j in i:\n",
        "\n",
        "    if( j in mydict):\n",
        "\n",
        "      mydict[j].append(i[j])\n",
        "    else:\n",
        "      mydict[j] = [i[j]]\n",
        "print(mydict)"
      ],
      "metadata": {
        "colab": {
          "base_uri": "https://localhost:8080/"
        },
        "id": "Q5b0s_8poqRY",
        "outputId": "a2679b91-ba15-4fde-a515-50bb14ca9308"
      },
      "execution_count": 2,
      "outputs": [
        {
          "output_type": "stream",
          "name": "stdout",
          "text": [
            "{'a': [1, 3], 'b': [2, 4]}\n"
          ]
        }
      ]
    },
    {
      "cell_type": "code",
      "source": [],
      "metadata": {
        "id": "F2jOdVVWjiSu"
      },
      "execution_count": null,
      "outputs": []
    }
  ]
}