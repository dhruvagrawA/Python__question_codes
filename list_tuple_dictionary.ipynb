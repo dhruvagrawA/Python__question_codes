{
  "nbformat": 4,
  "nbformat_minor": 0,
  "metadata": {
    "colab": {
      "provenance": [],
      "authorship_tag": "ABX9TyMopyfUbz7y+804zOQf9bpV",
      "include_colab_link": true
    },
    "kernelspec": {
      "name": "python3",
      "display_name": "Python 3"
    },
    "language_info": {
      "name": "python"
    }
  },
  "cells": [
    {
      "cell_type": "markdown",
      "metadata": {
        "id": "view-in-github",
        "colab_type": "text"
      },
      "source": [
        "<a href=\"https://colab.research.google.com/github/dhruvagrawA/Python__question_codes/blob/main/list_tuple_dictionary.ipynb\" target=\"_parent\"><img src=\"https://colab.research.google.com/assets/colab-badge.svg\" alt=\"Open In Colab\"/></a>"
      ]
    },
    {
      "cell_type": "code",
      "execution_count": null,
      "metadata": {
        "colab": {
          "base_uri": "https://localhost:8080/"
        },
        "id": "aWQvzYj93ELJ",
        "outputId": "1447bed8-d312-4fe1-defc-8ec042104a2c"
      },
      "outputs": [
        {
          "output_type": "stream",
          "name": "stdout",
          "text": [
            "10\n",
            "20\n",
            "30\n",
            "40\n"
          ]
        }
      ],
      "source": [
        "x = [10,20,30,40,'abc']\n",
        "for i in range(len(x)):\n",
        "    if(type(x[i]) == int):\n",
        "        print(x[i])"
      ]
    },
    {
      "cell_type": "code",
      "source": [
        "# Q1.Max number\n",
        "mylist = [10,20,30,40,14]\n",
        "max=mylist[0]\n",
        "for index in range(len(mylist)):\n",
        " print(\"before---\",mylist[index],max)\n",
        " if(mylist[index]>max):\n",
        "      max=mylist[index]\n",
        "\n",
        " print(\"after------\",mylist[index],max)"
      ],
      "metadata": {
        "colab": {
          "base_uri": "https://localhost:8080/"
        },
        "id": "cyIMkN0U3WfC",
        "outputId": "e71a323a-5815-4070-e76e-0f23710f862c"
      },
      "execution_count": null,
      "outputs": [
        {
          "output_type": "stream",
          "name": "stdout",
          "text": [
            "before--- 10 10\n",
            "after------ 10 10\n",
            "before--- 20 10\n",
            "after------ 20 20\n",
            "before--- 30 20\n",
            "after------ 30 30\n",
            "before--- 40 30\n",
            "after------ 40 40\n",
            "before--- 14 40\n",
            "after------ 14 40\n"
          ]
        }
      ]
    },
    {
      "cell_type": "code",
      "source": [
        "mylist = [10,20,30,40,35]\n",
        "max=mylist[0]\n",
        "smax=0\n",
        "for index in range(len(mylist)):\n",
        "\n",
        " if(mylist[index]>max):\n",
        "  smax=max\n",
        "  max=mylist[index]\n",
        "\n",
        " elif(mylist[index]>smax):\n",
        "  smax=mylist[index]\n",
        "\n",
        "print(\"values---\",max,smax)\n",
        "\n"
      ],
      "metadata": {
        "colab": {
          "base_uri": "https://localhost:8080/"
        },
        "id": "2K1g7Zp45XqV",
        "outputId": "dbdf624f-9263-4ad4-d8ca-411792eb7a5e"
      },
      "execution_count": null,
      "outputs": [
        {
          "output_type": "stream",
          "name": "stdout",
          "text": [
            "values--- 40 35\n"
          ]
        }
      ]
    },
    {
      "cell_type": "code",
      "source": [
        "#Q2.Total of list\n",
        "x=[10,20,30,40,35]\n",
        "\n",
        "total=0\n",
        "for index in range(0,len(x)):\n",
        "  total=total+x[index]\n",
        "print(total)"
      ],
      "metadata": {
        "colab": {
          "base_uri": "https://localhost:8080/"
        },
        "id": "yksRBlO37fRb",
        "outputId": "1399e004-090c-4ef8-8269-7dbd6e8f26b0"
      },
      "execution_count": null,
      "outputs": [
        {
          "output_type": "stream",
          "name": "stdout",
          "text": [
            "135\n"
          ]
        }
      ]
    },
    {
      "cell_type": "code",
      "source": [
        "mylist = [10,20,30,40,35]\n",
        "total = 0\n",
        "for i in range(0,len(mylist)):\n",
        "    total = total + mylist[i]\n",
        "    print(mylist[i] , total)"
      ],
      "metadata": {
        "colab": {
          "base_uri": "https://localhost:8080/"
        },
        "id": "OYO0dhHE9LYH",
        "outputId": "6bf99f81-841e-48e7-84fb-dbd5bef805f5"
      },
      "execution_count": null,
      "outputs": [
        {
          "output_type": "stream",
          "name": "stdout",
          "text": [
            "10 10\n",
            "20 30\n",
            "30 60\n",
            "40 100\n",
            "35 135\n"
          ]
        }
      ]
    },
    {
      "cell_type": "code",
      "source": [
        "mylist=[10,20,30,40,35]\n",
        "for i in range(0,1):\n",
        "  for j in range(1,len(l1)):\n",
        "    print(mylist[i],mylist[j])"
      ],
      "metadata": {
        "colab": {
          "base_uri": "https://localhost:8080/"
        },
        "id": "k6zyhDCk9rfx",
        "outputId": "ff4b492c-789d-45e1-e6fd-30fe6dc77c82"
      },
      "execution_count": null,
      "outputs": [
        {
          "output_type": "stream",
          "name": "stdout",
          "text": [
            "10 20\n",
            "10 30\n",
            "10 40\n",
            "10 35\n"
          ]
        }
      ]
    },
    {
      "cell_type": "code",
      "source": [
        "mylist=[10,20,30,40,35]\n",
        "for i in range(0,len(mylist)):\n",
        "  for j in range(i+1,len(mylist)):\n",
        "    print(mylist[i],mylist[j])"
      ],
      "metadata": {
        "colab": {
          "base_uri": "https://localhost:8080/"
        },
        "id": "LBpArUHU-tSj",
        "outputId": "14edc517-d636-4e34-b1a7-5016b204e443"
      },
      "execution_count": null,
      "outputs": [
        {
          "output_type": "stream",
          "name": "stdout",
          "text": [
            "10 20\n",
            "10 30\n",
            "10 40\n",
            "10 35\n",
            "20 30\n",
            "20 40\n",
            "20 35\n",
            "30 40\n",
            "30 35\n",
            "40 35\n"
          ]
        }
      ]
    },
    {
      "cell_type": "code",
      "source": [
        "#Q6.target sum of values\n",
        "mylist = [10,20,30,40,50]\n",
        "target = 50\n",
        "for i in range(len(mylist)):\n",
        " for j in range(i+1,len(mylist)):\n",
        "  if(mylist[i]+mylist[j] == target):\n",
        "   print(mylist[i],mylist[j])"
      ],
      "metadata": {
        "colab": {
          "base_uri": "https://localhost:8080/"
        },
        "id": "L4r_kDsZAqzF",
        "outputId": "581a9502-2b65-4248-eaf7-dc6fe257017b"
      },
      "execution_count": null,
      "outputs": [
        {
          "output_type": "stream",
          "name": "stdout",
          "text": [
            "10 40\n",
            "20 30\n"
          ]
        }
      ]
    },
    {
      "cell_type": "code",
      "source": [
        "#Q3.revesre list\n",
        "data = [1, 2, 3, 4, 5]\n",
        "length = len(data)\n",
        "print(length)\n",
        "for i in range(length // 2):\n",
        "  temp = data[i]\n",
        "\n",
        "  data[i] = data[length - 1 - i]\n",
        "\n",
        "  data[length - 1 - i] = temp\n",
        "\n",
        "print(data)\n"
      ],
      "metadata": {
        "colab": {
          "base_uri": "https://localhost:8080/"
        },
        "id": "oaPW2cQjE9nJ",
        "outputId": "bef3faf1-d2e1-4faa-fbc5-59e3c3175861"
      },
      "execution_count": null,
      "outputs": [
        {
          "output_type": "stream",
          "name": "stdout",
          "text": [
            "5\n",
            "[5, 4, 3, 2, 1]\n"
          ]
        }
      ]
    },
    {
      "cell_type": "code",
      "source": [
        "#Q4.ascending\n",
        "x = [10, 90, 57, 0, -5]\n",
        "min = x[0]\n",
        "for i in range(len(x)):\n",
        "  for j in range(i+1,len(x)):\n",
        "    if(x[i]>x[j]):\n",
        "      x[i],x[j] = x[j],x[i]\n",
        "print(x)"
      ],
      "metadata": {
        "colab": {
          "base_uri": "https://localhost:8080/"
        },
        "id": "u1XD3dcWFzzQ",
        "outputId": "bfb0b90b-093d-4de0-992e-85093891fe90"
      },
      "execution_count": null,
      "outputs": [
        {
          "output_type": "stream",
          "name": "stdout",
          "text": [
            "[-5, 0, 10, 57, 90]\n"
          ]
        }
      ]
    },
    {
      "cell_type": "code",
      "source": [
        "# Q5.remove duplicates\n",
        "x = [1, 2, 2, 3, 4, 4, 5]\n",
        "for i in range(len(x)):\n",
        "  for j in range(len(x)-1,i,-1):\n",
        "    if(x[i] == x[j]):\n",
        "       x.pop(j)\n",
        "print(x)"
      ],
      "metadata": {
        "id": "dJy3xkfPISZU",
        "colab": {
          "base_uri": "https://localhost:8080/"
        },
        "outputId": "36fd5840-418e-4689-8527-968a2d6061a4"
      },
      "execution_count": null,
      "outputs": [
        {
          "output_type": "stream",
          "name": "stdout",
          "text": [
            "[1, 2, 3, 4, 5]\n"
          ]
        }
      ]
    },
    {
      "cell_type": "code",
      "source": [
        "x = (10,20,\"abc\",10,10,40,90)\n",
        "print(x.count(10))\n",
        "print(x.index(40))\n",
        "\n",
        "# x[0]=19  we cnt do insert , update , delete\n",
        "\n"
      ],
      "metadata": {
        "colab": {
          "base_uri": "https://localhost:8080/"
        },
        "id": "Xq5Of5IS-4lT",
        "outputId": "ec37540d-2237-4990-e50f-30c704ddf590"
      },
      "execution_count": null,
      "outputs": [
        {
          "output_type": "stream",
          "name": "stdout",
          "text": [
            "3\n",
            "5\n"
          ]
        }
      ]
    },
    {
      "cell_type": "code",
      "source": [
        "mydictionary={101:\"tushar\",\"salary\":2000000,\"email\":\"tushar@gmail.com\"}\n",
        "print(mydictionary)"
      ],
      "metadata": {
        "id": "xisNVEwjBNXR",
        "colab": {
          "base_uri": "https://localhost:8080/"
        },
        "outputId": "60b6eac7-2841-4cb6-d82b-b5e2b72d68b3"
      },
      "execution_count": null,
      "outputs": [
        {
          "output_type": "stream",
          "name": "stdout",
          "text": [
            "{101: 'tushar', 'salary': 2000000, 'email': 'tushar@gmail.com'}\n"
          ]
        }
      ]
    },
    {
      "cell_type": "code",
      "source": [
        "mydictionary={101:\"tushar\",\"salary\":2000000,\"email\":\"tushar@gmail.com\"}\n",
        "print(mydictionary[\"email\"])\n",
        "\n",
        "mydictionary[\"email\"]=\"goyaltushar@gmail.com\"\n",
        "print(mydictionary)\n",
        "\n",
        "mydictionary[\"age\"]=25\n",
        "print(mydictionary)\n",
        "\n",
        "\n",
        "x=mydictionary.pop(\"email\")    #to delete\n",
        "print(mydictionary,x)\n",
        "\n",
        "\n",
        "mydictionary.keys()\n",
        "\n",
        "mydictionary.values()"
      ],
      "metadata": {
        "id": "mcFYENKDEeNC",
        "colab": {
          "base_uri": "https://localhost:8080/"
        },
        "outputId": "ae6908d9-6fa0-4dfa-ad58-bfd50b32d4c1"
      },
      "execution_count": 16,
      "outputs": [
        {
          "output_type": "stream",
          "name": "stdout",
          "text": [
            "tushar@gmail.com\n",
            "{101: 'tushar', 'salary': 2000000, 'email': 'goyaltushar@gmail.com'}\n",
            "{101: 'tushar', 'salary': 2000000, 'email': 'goyaltushar@gmail.com', 'age': 25}\n",
            "{101: 'tushar', 'salary': 2000000, 'age': 25} goyaltushar@gmail.com\n"
          ]
        },
        {
          "output_type": "execute_result",
          "data": {
            "text/plain": [
              "dict_values(['tushar', 2000000, 25])"
            ]
          },
          "metadata": {},
          "execution_count": 16
        }
      ]
    },
    {
      "cell_type": "code",
      "source": [
        "mydic={10:\"a\",20:\"b\",30:\"c\"}\n",
        "for i in mydic:           #loop\n",
        "  print(i,mydic[i])"
      ],
      "metadata": {
        "colab": {
          "base_uri": "https://localhost:8080/"
        },
        "id": "LBrnPa2hFf6c",
        "outputId": "5a1b39ab-6976-4750-ab6e-a3c0e490e3fb"
      },
      "execution_count": 17,
      "outputs": [
        {
          "output_type": "stream",
          "name": "stdout",
          "text": [
            "10 a\n",
            "20 b\n",
            "30 c\n"
          ]
        }
      ]
    },
    {
      "cell_type": "code",
      "source": [
        "mydic={10:\"a\",20:\"b\",30:\"c\"}\n",
        "for i in mydic.keys():\n",
        "  print(i,mydic[i])"
      ],
      "metadata": {
        "colab": {
          "base_uri": "https://localhost:8080/"
        },
        "id": "R_VGBPWZH-3p",
        "outputId": "c38bb5c5-d869-4bd0-eba2-19c22ec53e0a"
      },
      "execution_count": 18,
      "outputs": [
        {
          "output_type": "stream",
          "name": "stdout",
          "text": [
            "10 a\n",
            "20 b\n",
            "30 c\n"
          ]
        }
      ]
    },
    {
      "cell_type": "code",
      "source": [
        "mydic={10:\"a\",20:\"b\",30:\"c\"}\n",
        "for i in mydic.values():\n",
        "  print(i)"
      ],
      "metadata": {
        "colab": {
          "base_uri": "https://localhost:8080/"
        },
        "id": "WKzaI-zlIbPM",
        "outputId": "536db501-f073-40a2-d42c-018d592f3fee"
      },
      "execution_count": 19,
      "outputs": [
        {
          "output_type": "stream",
          "name": "stdout",
          "text": [
            "a\n",
            "b\n",
            "c\n"
          ]
        }
      ]
    },
    {
      "cell_type": "code",
      "source": [
        "# Q.total no of characters in string\n",
        "s = \"Raj5\"\n",
        "d = {'total':0}\n",
        "for i in s:\n",
        "    d[\"total\"]+=1\n",
        "print(d)"
      ],
      "metadata": {
        "colab": {
          "base_uri": "https://localhost:8080/"
        },
        "id": "iUe9T8i8If2T",
        "outputId": "97e582a2-2357-4bdc-bfc6-f600c0aab59f"
      },
      "execution_count": 25,
      "outputs": [
        {
          "output_type": "stream",
          "name": "stdout",
          "text": [
            "{'total': 4}\n"
          ]
        }
      ]
    },
    {
      "cell_type": "code",
      "source": [
        "s = \"abc\"\n",
        "d = {}\n",
        "for i in s:\n",
        " d[i]=1\n",
        "print(d)"
      ],
      "metadata": {
        "colab": {
          "base_uri": "https://localhost:8080/"
        },
        "id": "XBVT2TVUKn7e",
        "outputId": "3f2e8a55-ad13-42c8-a8ab-cdd195b658f2"
      },
      "execution_count": 28,
      "outputs": [
        {
          "output_type": "stream",
          "name": "stdout",
          "text": [
            "{'a': 1, 'b': 1, 'c': 1}\n"
          ]
        }
      ]
    },
    {
      "cell_type": "code",
      "source": [],
      "metadata": {
        "id": "e9kUToF4L0c0"
      },
      "execution_count": null,
      "outputs": []
    }
  ]
}