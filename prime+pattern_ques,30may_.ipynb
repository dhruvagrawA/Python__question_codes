{
  "nbformat": 4,
  "nbformat_minor": 0,
  "metadata": {
    "colab": {
      "provenance": [],
      "authorship_tag": "ABX9TyM12u+MevgVh22N0CZDPU94",
      "include_colab_link": true
    },
    "kernelspec": {
      "name": "python3",
      "display_name": "Python 3"
    },
    "language_info": {
      "name": "python"
    }
  },
  "cells": [
    {
      "cell_type": "markdown",
      "metadata": {
        "id": "view-in-github",
        "colab_type": "text"
      },
      "source": [
        "<a href=\"https://colab.research.google.com/github/dhruvagrawA/Python__question_codes/blob/main/prime%2Bpattern_ques%2C30may_.ipynb\" target=\"_parent\"><img src=\"https://colab.research.google.com/assets/colab-badge.svg\" alt=\"Open In Colab\"/></a>"
      ]
    },
    {
      "cell_type": "code",
      "execution_count": null,
      "metadata": {
        "colab": {
          "base_uri": "https://localhost:8080/"
        },
        "id": "smW1FKBCD3Pf",
        "outputId": "a2a6472f-d065-4c63-e794-533d0c972e3a"
      },
      "outputs": [
        {
          "output_type": "stream",
          "name": "stdout",
          "text": [
            "* * * * \n",
            "* * * \n",
            "* * \n",
            "* \n"
          ]
        }
      ],
      "source": [
        "for i in range(1,5):\n",
        "  for j in range(1,5-i+1):\n",
        "    print(\"*\",end=\" \")\n",
        "  print()"
      ]
    },
    {
      "cell_type": "code",
      "source": [
        "for i in range(1,5):\n",
        "  for j in range(1,5-i+1):\n",
        "    print(j,end=\" \")\n",
        "\n",
        "  for k in range(1,i):\n",
        "    print(\"*\",end=\" \")\n",
        "  print()"
      ],
      "metadata": {
        "colab": {
          "base_uri": "https://localhost:8080/"
        },
        "id": "MBUwAGqGNQbz",
        "outputId": "cb3b34e7-6f31-4279-ba23-951dab8ae1c9"
      },
      "execution_count": null,
      "outputs": [
        {
          "output_type": "stream",
          "name": "stdout",
          "text": [
            "1 2 3 4 \n",
            "1 2 3 * \n",
            "1 2 * * \n",
            "1 * * * \n"
          ]
        }
      ]
    },
    {
      "cell_type": "code",
      "source": [
        "for i in range(1,5):\n",
        "  for j in range(1,5-i+1):\n",
        "    print(\"*\",end=\" \")\n",
        "  print()"
      ],
      "metadata": {
        "colab": {
          "base_uri": "https://localhost:8080/"
        },
        "id": "2ogibvs_Sndd",
        "outputId": "1be3df73-63e7-4c65-abbd-6f8cf9a27ea1"
      },
      "execution_count": null,
      "outputs": [
        {
          "output_type": "stream",
          "name": "stdout",
          "text": [
            "* * * * \n",
            "* * * \n",
            "* * \n",
            "* \n"
          ]
        }
      ]
    },
    {
      "cell_type": "code",
      "source": [
        "for i in range(1,6):\n",
        "  for k in range(1,5-i+1):\n",
        "    print(\" \",end=\"\")\n",
        "\n",
        "  for j in range(1,i+1):\n",
        "    print(\"*\",end=\" \")\n",
        "\n",
        "  print()"
      ],
      "metadata": {
        "colab": {
          "base_uri": "https://localhost:8080/"
        },
        "id": "30DXuCg6X2HL",
        "outputId": "0b05db7e-c198-42b4-ef2f-52395944a350"
      },
      "execution_count": null,
      "outputs": [
        {
          "output_type": "stream",
          "name": "stdout",
          "text": [
            "    * \n",
            "   * * \n",
            "  * * * \n",
            " * * * * \n",
            "* * * * * \n"
          ]
        }
      ]
    },
    {
      "cell_type": "code",
      "source": [
        "for i in range(1,6):\n",
        "\n",
        "\n",
        "   for k in range(2,i+1):\n",
        "    print(\" \",end=\"\")\n",
        "\n",
        "\n",
        "\n",
        "   for j in range(1,6-i+1):\n",
        "    print(\"*\",end=\" \")\n",
        "\n",
        "\n",
        "\n",
        "   print()"
      ],
      "metadata": {
        "colab": {
          "base_uri": "https://localhost:8080/"
        },
        "id": "gYYQbRUxRd1n",
        "outputId": "ae8afe0d-cd7a-4326-bdd4-4c9f6acb27a0"
      },
      "execution_count": null,
      "outputs": [
        {
          "output_type": "stream",
          "name": "stdout",
          "text": [
            "* * * * * \n",
            " * * * * \n",
            "  * * * \n",
            "   * * \n",
            "    * \n"
          ]
        }
      ]
    },
    {
      "cell_type": "code",
      "source": [
        "for i in range(5):\n",
        "  for k in range(5-i):\n",
        "    print(\"*\",end=\" \")\n",
        "  print()\n",
        "for i in range(1,5):\n",
        "  for j in range(0,i+1):\n",
        "    print(\"*\",end=\" \")\n",
        "  print()"
      ],
      "metadata": {
        "colab": {
          "base_uri": "https://localhost:8080/"
        },
        "id": "oIFwiZqCSA6-",
        "outputId": "ed7008c9-59bb-48d9-fb5d-5c533dbc7654"
      },
      "execution_count": null,
      "outputs": [
        {
          "output_type": "stream",
          "name": "stdout",
          "text": [
            "* * * * * \n",
            "* * * * \n",
            "* * * \n",
            "* * \n",
            "* \n",
            "* * \n",
            "* * * \n",
            "* * * * \n",
            "* * * * * \n"
          ]
        }
      ]
    },
    {
      "cell_type": "code",
      "source": [
        "for i in range(1,5):\n",
        "  for j in range(2,i+1):\n",
        "   print(\" \",end=\" \")\n",
        "\n",
        "\n",
        "  for k in range(1,5-i+1):\n",
        "    print(\"*\",end=\" \")\n",
        "  print()\n",
        "\n",
        "\n",
        "\n",
        "for i in range(1,6):\n",
        "    for s in range(1,5-i-1):\n",
        "        print(\" \",end=\" \")\n",
        "    for j in range(1,i+2):\n",
        "        print(\"*\",end=\" \")\n",
        "    print()"
      ],
      "metadata": {
        "colab": {
          "base_uri": "https://localhost:8080/"
        },
        "id": "1cnOYWkSUKlE",
        "outputId": "bde14436-01d6-4b01-895b-2b82ca66c78f"
      },
      "execution_count": null,
      "outputs": [
        {
          "output_type": "stream",
          "name": "stdout",
          "text": [
            "* * * * \n",
            "  * * * \n",
            "    * * \n",
            "      * \n",
            "    * * \n",
            "  * * * \n",
            "* * * * \n",
            "* * * * * \n",
            "* * * * * * \n"
          ]
        }
      ]
    },
    {
      "cell_type": "code",
      "source": [
        "for i in range(1,6):\n",
        "  for j in range(2,i+1):\n",
        "    print(\" \",end=\" \")\n",
        "  for k in range(i,6):\n",
        "    print(\"*\",end=\" \")\n",
        "  print()\n",
        "\n",
        "for i in range(2,6):\n",
        "  for j in range(i,5):\n",
        "    print(\" \",end=\" \")\n",
        "  for k in range(1,i+1):\n",
        "    print(\"*\",end=\" \")\n",
        "  print()"
      ],
      "metadata": {
        "colab": {
          "base_uri": "https://localhost:8080/"
        },
        "id": "Le4EFDlGWbtH",
        "outputId": "de17d458-125a-4486-872e-39cbb4b97e84"
      },
      "execution_count": null,
      "outputs": [
        {
          "output_type": "stream",
          "name": "stdout",
          "text": [
            "* * * * * \n",
            "  * * * * \n",
            "    * * * \n",
            "      * * \n",
            "        * \n",
            "      * * \n",
            "    * * * \n",
            "  * * * * \n",
            "* * * * * \n"
          ]
        }
      ]
    },
    {
      "cell_type": "code",
      "source": [
        "for i in range(1,5):\n",
        "  for k in range(1,i):\n",
        "    print(\" \", end=\"\")\n",
        "\n",
        "  for k in range(1,5-i+1):\n",
        "    print(\"*\", end=\"\")\n",
        "\n",
        "  print()\n",
        "\n",
        "for i in range(1,4):\n",
        "  for k in range(1,5-i-1):\n",
        "    print(\" \", end=\"\")\n",
        "\n",
        "  for k in range(1,i+2):\n",
        "    print(\"*\", end=\"\")\n",
        "\n",
        "  print()"
      ],
      "metadata": {
        "colab": {
          "base_uri": "https://localhost:8080/"
        },
        "id": "0SZ8dKg1YTaq",
        "outputId": "4462c956-d712-48ee-9c41-0be6e7bba250"
      },
      "execution_count": null,
      "outputs": [
        {
          "output_type": "stream",
          "name": "stdout",
          "text": [
            "****\n",
            " ***\n",
            "  **\n",
            "   *\n",
            "  **\n",
            " ***\n",
            "****\n"
          ]
        }
      ]
    },
    {
      "cell_type": "code",
      "source": [
        "num = 2\n",
        "count = 0\n",
        "while(count <= 3):\n",
        "    a = 0\n",
        "    for i in range(2,num):\n",
        "      if(num %i==0):\n",
        "        a=1\n",
        "        break\n",
        "    if(a==1):\n",
        "      print(\"not prime\",num)\n",
        "    else:\n",
        "      print(\"prime\",num)\n",
        "\n",
        "    count+=1\n",
        "\n",
        "    num+=1\n",
        ""
      ],
      "metadata": {
        "colab": {
          "base_uri": "https://localhost:8080/"
        },
        "id": "hs-K5GvKcz8P",
        "outputId": "1028a58f-4963-4073-8f0c-2bd7374609c5"
      },
      "execution_count": 59,
      "outputs": [
        {
          "output_type": "stream",
          "name": "stdout",
          "text": [
            "prime 2\n",
            "prime 3\n",
            "not prime 4\n",
            "prime 5\n"
          ]
        }
      ]
    },
    {
      "cell_type": "code",
      "source": [],
      "metadata": {
        "id": "-idbms4wdeHe"
      },
      "execution_count": null,
      "outputs": []
    }
  ]
}